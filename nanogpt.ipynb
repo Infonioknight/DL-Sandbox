{
 "cells": [
  {
   "cell_type": "code",
   "execution_count": 1,
   "id": "287d3109",
   "metadata": {},
   "outputs": [
    {
     "name": "stdout",
     "output_type": "stream",
     "text": [
      "--2025-07-12 17:49:15--  https://raw.githubusercontent.com/karpathy/char-rnn/master/data/tinyshakespeare/input.txt\n",
      "Resolving raw.githubusercontent.com (raw.githubusercontent.com)... 2606:50c0:8002::154, 2606:50c0:8000::154, 2606:50c0:8001::154, ...\n",
      "Connecting to raw.githubusercontent.com (raw.githubusercontent.com)|2606:50c0:8002::154|:443... connected.\n",
      "HTTP request sent, awaiting response... 200 OK\n",
      "Length: 1115394 (1.1M) [text/plain]\n",
      "Saving to: ‘input.txt’\n",
      "\n",
      "input.txt           100%[===================>]   1.06M  --.-KB/s    in 0.07s   \n",
      "\n",
      "2025-07-12 17:49:16 (16.2 MB/s) - ‘input.txt’ saved [1115394/1115394]\n",
      "\n"
     ]
    }
   ],
   "source": [
    "!wget https://raw.githubusercontent.com/karpathy/char-rnn/master/data/tinyshakespeare/input.txt"
   ]
  },
  {
   "cell_type": "code",
   "execution_count": 3,
   "id": "8c9d3f37",
   "metadata": {},
   "outputs": [],
   "source": [
    "with open('input.txt', 'r', encoding='utf-8') as f:\n",
    "    text = f.read()"
   ]
  },
  {
   "cell_type": "code",
   "execution_count": 8,
   "id": "0c14ec0c",
   "metadata": {},
   "outputs": [
    {
     "name": "stdout",
     "output_type": "stream",
     "text": [
      "\n",
      " !$&',-.3:;?ABCDEFGHIJKLMNOPQRSTUVWXYZabcdefghijklmnopqrstuvwxyz\n",
      "65\n"
     ]
    }
   ],
   "source": [
    "# Create a set of all the characters in this text - get a list of them and sort them to get them in correct ASCII order\n",
    "chars = sorted(list(set(text)))\n",
    "vocab_size = len(chars)\n",
    "print(''.join(chars))\n",
    "print(vocab_size)"
   ]
  },
  {
   "cell_type": "code",
   "execution_count": null,
   "id": "da6eb83b",
   "metadata": {},
   "outputs": [
    {
     "name": "stdout",
     "output_type": "stream",
     "text": [
      "[20, 43, 50, 50, 53, 1, 21, 51, 1, 50, 43, 39, 56, 52, 47, 52, 45]\n",
      "['Hello Im learning']\n"
     ]
    }
   ],
   "source": [
    "# Tokenizing the text (develop a strategy) - Convert the raw text, convert them to a series/sequence according to some vocabulary\n",
    "# So here it's a character level model - translating individual chars into integers.\n",
    "\n",
    "stoi = { ch:i for i, ch in enumerate(chars) } # Note the syntax on how easy it is for mapping to a dictionary!\n",
    "itos = { i:ch for i, ch in enumerate(chars) }\n",
    "\n",
    "encode = lambda s: [stoi[c] for c in s]\n",
    "decode = lambda l: [''.join(itos[i] for i in l)]\n",
    "\n",
    "print(encode('Hello Im learning'))\n",
    "print(decode(encode('Hello Im learning')))\n",
    "\n",
    "# SentencePiece by google - subword tokenizer (google)\n",
    "# tiktoken (gpt)"
   ]
  },
  {
   "cell_type": "code",
   "execution_count": 18,
   "id": "e60c4c09",
   "metadata": {},
   "outputs": [
    {
     "name": "stdout",
     "output_type": "stream",
     "text": [
      "['gpt2', 'r50k_base', 'p50k_base', 'p50k_edit', 'cl100k_base', 'o200k_base']\n",
      "50257\n",
      "[1212, 318, 308, 457, 17, 0]\n"
     ]
    }
   ],
   "source": [
    "# tiktoken\n",
    "import tiktoken\n",
    "\n",
    "print(tiktoken.list_encoding_names())\n",
    "vocabulary = tiktoken.get_encoding('gpt2')\n",
    "\n",
    "print(vocabulary.n_vocab)\n",
    "print(vocabulary.encode('This is gpt2!'))\n"
   ]
  },
  {
   "cell_type": "code",
   "execution_count": 19,
   "id": "117aea21",
   "metadata": {},
   "outputs": [
    {
     "name": "stderr",
     "output_type": "stream",
     "text": [
      "/Users/gaurav/Desktop/NanoGPT/env/lib/python3.10/site-packages/torch/_subclasses/functional_tensor.py:276: UserWarning: Failed to initialize NumPy: No module named 'numpy' (Triggered internally at /Users/runner/work/pytorch/pytorch/pytorch/torch/csrc/utils/tensor_numpy.cpp:81.)\n",
      "  cpu = _conversion_method_template(device=torch.device(\"cpu\"))\n"
     ]
    },
    {
     "name": "stdout",
     "output_type": "stream",
     "text": [
      "torch.Size([1115394]) torch.int64\n",
      "tensor([18, 47, 56, 57, 58,  1, 15, 47, 58, 47, 64, 43, 52, 10,  0, 14, 43, 44,\n",
      "        53, 56, 43,  1, 61, 43,  1, 54, 56, 53, 41, 43, 43, 42,  1, 39, 52, 63,\n",
      "         1, 44, 59, 56, 58, 46, 43, 56,  6,  1, 46, 43, 39, 56,  1, 51, 43,  1,\n",
      "        57, 54, 43, 39, 49,  8,  0,  0, 13, 50, 50, 10,  0, 31, 54, 43, 39, 49,\n",
      "         6,  1, 57, 54, 43, 39, 49,  8,  0,  0, 18, 47, 56, 57, 58,  1, 15, 47,\n",
      "        58, 47, 64, 43, 52, 10,  0, 37, 53, 59,  1, 39, 56, 43,  1, 39, 50, 50,\n",
      "         1, 56, 43, 57, 53, 50, 60, 43, 42,  1, 56, 39, 58, 46, 43, 56,  1, 58,\n",
      "        53,  1, 42, 47, 43,  1, 58, 46, 39, 52,  1, 58, 53,  1, 44, 39, 51, 47,\n",
      "        57, 46, 12,  0,  0, 13, 50, 50, 10,  0, 30, 43, 57, 53, 50, 60, 43, 42,\n",
      "         8,  1, 56, 43, 57, 53, 50, 60, 43, 42,  8,  0,  0, 18, 47, 56, 57, 58,\n",
      "         1, 15, 47, 58, 47, 64, 43, 52, 10,  0, 18, 47, 56, 57, 58,  6,  1, 63,\n",
      "        53, 59,  1, 49, 52, 53, 61,  1, 15, 39, 47, 59, 57,  1, 25, 39, 56, 41,\n",
      "        47, 59, 57,  1, 47, 57,  1, 41, 46, 47, 43, 44,  1, 43, 52, 43, 51, 63,\n",
      "         1, 58, 53,  1, 58, 46, 43,  1, 54, 43, 53, 54, 50, 43,  8,  0,  0, 13,\n",
      "        50, 50, 10,  0, 35, 43,  1, 49, 52, 53, 61,  5, 58,  6,  1, 61, 43,  1,\n",
      "        49, 52, 53, 61,  5, 58,  8,  0,  0, 18, 47, 56, 57, 58,  1, 15, 47, 58,\n",
      "        47, 64, 43, 52, 10,  0, 24, 43, 58,  1, 59, 57,  1, 49, 47, 50, 50,  1,\n",
      "        46, 47, 51,  6,  1, 39, 52, 42,  1, 61, 43,  5, 50, 50,  1, 46, 39, 60,\n",
      "        43,  1, 41, 53, 56, 52,  1, 39, 58,  1, 53, 59, 56,  1, 53, 61, 52,  1,\n",
      "        54, 56, 47, 41, 43,  8,  0, 21, 57,  5, 58,  1, 39,  1, 60, 43, 56, 42,\n",
      "        47, 41, 58, 12,  0,  0, 13, 50, 50, 10,  0, 26, 53,  1, 51, 53, 56, 43,\n",
      "         1, 58, 39, 50, 49, 47, 52, 45,  1, 53, 52,  5, 58, 11,  1, 50, 43, 58,\n",
      "         1, 47, 58,  1, 40, 43,  1, 42, 53, 52, 43, 10,  1, 39, 61, 39, 63,  6,\n",
      "         1, 39, 61, 39, 63,  2,  0,  0, 31, 43, 41, 53, 52, 42,  1, 15, 47, 58,\n",
      "        47, 64, 43, 52, 10,  0, 27, 52, 43,  1, 61, 53, 56, 42,  6,  1, 45, 53,\n",
      "        53, 42,  1, 41, 47, 58, 47, 64, 43, 52, 57,  8,  0,  0, 18, 47, 56, 57,\n",
      "        58,  1, 15, 47, 58, 47, 64, 43, 52, 10,  0, 35, 43,  1, 39, 56, 43,  1,\n",
      "        39, 41, 41, 53, 59, 52, 58, 43, 42,  1, 54, 53, 53, 56,  1, 41, 47, 58,\n",
      "        47, 64, 43, 52, 57,  6,  1, 58, 46, 43,  1, 54, 39, 58, 56, 47, 41, 47,\n",
      "        39, 52, 57,  1, 45, 53, 53, 42,  8,  0, 35, 46, 39, 58,  1, 39, 59, 58,\n",
      "        46, 53, 56, 47, 58, 63,  1, 57, 59, 56, 44, 43, 47, 58, 57,  1, 53, 52,\n",
      "         1, 61, 53, 59, 50, 42,  1, 56, 43, 50, 47, 43, 60, 43,  1, 59, 57, 10,\n",
      "         1, 47, 44,  1, 58, 46, 43, 63,  0, 61, 53, 59, 50, 42,  1, 63, 47, 43,\n",
      "        50, 42,  1, 59, 57,  1, 40, 59, 58,  1, 58, 46, 43,  1, 57, 59, 54, 43,\n",
      "        56, 44, 50, 59, 47, 58, 63,  6,  1, 61, 46, 47, 50, 43,  1, 47, 58,  1,\n",
      "        61, 43, 56, 43,  0, 61, 46, 53, 50, 43, 57, 53, 51, 43,  6,  1, 61, 43,\n",
      "         1, 51, 47, 45, 46, 58,  1, 45, 59, 43, 57, 57,  1, 58, 46, 43, 63,  1,\n",
      "        56, 43, 50, 47, 43, 60, 43, 42,  1, 59, 57,  1, 46, 59, 51, 39, 52, 43,\n",
      "        50, 63, 11,  0, 40, 59, 58,  1, 58, 46, 43, 63,  1, 58, 46, 47, 52, 49,\n",
      "         1, 61, 43,  1, 39, 56, 43,  1, 58, 53, 53,  1, 42, 43, 39, 56, 10,  1,\n",
      "        58, 46, 43,  1, 50, 43, 39, 52, 52, 43, 57, 57,  1, 58, 46, 39, 58,  0,\n",
      "        39, 44, 44, 50, 47, 41, 58, 57,  1, 59, 57,  6,  1, 58, 46, 43,  1, 53,\n",
      "        40, 48, 43, 41, 58,  1, 53, 44,  1, 53, 59, 56,  1, 51, 47, 57, 43, 56,\n",
      "        63,  6,  1, 47, 57,  1, 39, 57,  1, 39, 52,  0, 47, 52, 60, 43, 52, 58,\n",
      "        53, 56, 63,  1, 58, 53,  1, 54, 39, 56, 58, 47, 41, 59, 50, 39, 56, 47,\n",
      "        57, 43,  1, 58, 46, 43, 47, 56,  1, 39, 40, 59, 52, 42, 39, 52, 41, 43,\n",
      "        11,  1, 53, 59, 56,  0, 57, 59, 44, 44, 43, 56, 39, 52, 41, 43,  1, 47,\n",
      "        57,  1, 39,  1, 45, 39, 47, 52,  1, 58, 53,  1, 58, 46, 43, 51,  1, 24,\n",
      "        43, 58,  1, 59, 57,  1, 56, 43, 60, 43, 52, 45, 43,  1, 58, 46, 47, 57,\n",
      "         1, 61, 47, 58, 46,  0, 53, 59, 56,  1, 54, 47, 49, 43, 57,  6,  1, 43,\n",
      "        56, 43,  1, 61, 43,  1, 40, 43, 41, 53, 51, 43,  1, 56, 39, 49, 43, 57,\n",
      "        10,  1, 44, 53, 56,  1, 58, 46, 43,  1, 45, 53, 42, 57,  1, 49, 52, 53,\n",
      "        61,  1, 21,  0, 57, 54, 43, 39, 49,  1, 58, 46, 47, 57,  1, 47, 52,  1,\n",
      "        46, 59, 52, 45, 43, 56,  1, 44, 53, 56,  1, 40, 56, 43, 39, 42,  6,  1,\n",
      "        52, 53, 58,  1, 47, 52,  1, 58, 46, 47, 56, 57, 58,  1, 44, 53, 56,  1,\n",
      "        56, 43, 60, 43, 52, 45, 43,  8,  0,  0])\n"
     ]
    }
   ],
   "source": [
    "# We now encode the entire dataset of shakespeare into a tensor\n",
    "import torch\n",
    "data = torch.tensor(encode(text), dtype=torch.long)\n",
    "print(data.shape, data.dtype)\n",
    "print(data[:1000])\n"
   ]
  },
  {
   "cell_type": "code",
   "execution_count": null,
   "id": "1ca62010",
   "metadata": {},
   "outputs": [],
   "source": [
    "# Now, an important step is to make sure we have our train and test data separate.\n",
    "n = int(0.9 * len(data)) # 90:10 split\n",
    "train_data = data[:n]\n",
    "val_data = data[n:] # Where data is the encoded corpus"
   ]
  },
  {
   "cell_type": "code",
   "execution_count": null,
   "id": "34035df9",
   "metadata": {},
   "outputs": [
    {
     "data": {
      "text/plain": [
       "tensor([18, 47, 56, 57, 58,  1, 15, 47, 58])"
      ]
     },
     "execution_count": 22,
     "metadata": {},
     "output_type": "execute_result"
    }
   ],
   "source": [
    "# When we train a transformer, we sample chunks and train it on chunks at a time.\n",
    "# They have a fixed maximum length\n",
    "block_size = 8\n",
    "train_data[:block_size + 1]\n",
    "# When you sample a chunk, this has multiple examples packed. All chars follow each other.\n",
    "# When you plug this in, you simultaneously try teaching the model to predict at each of these positions.\n",
    "# So in a chunk of 9, you have 8 examples ((18, 47), (47, 56) ... ) where the second character follows the first.\n"
   ]
  },
  {
   "cell_type": "code",
   "execution_count": null,
   "id": "86899cad",
   "metadata": {},
   "outputs": [
    {
     "name": "stdout",
     "output_type": "stream",
     "text": [
      "tensor([18]) is the context for 47\n",
      "tensor([18, 47]) is the context for 56\n",
      "tensor([18, 47, 56]) is the context for 57\n",
      "tensor([18, 47, 56, 57]) is the context for 58\n",
      "tensor([18, 47, 56, 57, 58]) is the context for 1\n",
      "tensor([18, 47, 56, 57, 58,  1]) is the context for 15\n",
      "tensor([18, 47, 56, 57, 58,  1, 15]) is the context for 47\n",
      "tensor([18, 47, 56, 57, 58,  1, 15, 47]) is the context for 58\n"
     ]
    }
   ],
   "source": [
    "x = train_data[:block_size]\n",
    "y = train_data[1:block_size + 1] # one offset from x to have the following characters.\n",
    "# So this will mean, for x[character_index], it is followed by y[character_index]\n",
    "for t in range(block_size):\n",
    "    context = x[:t + 1]\n",
    "    target = y[t]\n",
    "\n",
    "    print(f\"{context} is the context for {target}\")\n",
    "\n",
    "# This is basically if im not wrong, how autoregressively this works, where a future output is dependent on all the past inputs.\n",
    "# We train on all these context sizes (1-8) because we want our network get used to seeing contexts, all the way from 1 to block-size (everything in between).\n",
    "# We can sample with as little as 1 context, and it predicts up to block size - after which we truncate (from the front - old things basically) - since the transformer can only take a max of <batch_size> inputs."
   ]
  },
  {
   "cell_type": "code",
   "execution_count": null,
   "id": "c2f66cc1",
   "metadata": {},
   "outputs": [
    {
     "name": "stdout",
     "output_type": "stream",
     "text": [
      "tensor([ 76049, 234249, 934904, 560986])\n",
      "inputs: \n",
      "torch.Size([4, 8])\n",
      "tensor([[24, 43, 58,  5, 57,  1, 46, 43],\n",
      "        [44, 53, 56,  1, 58, 46, 39, 58],\n",
      "        [52, 58,  1, 58, 46, 39, 58,  1],\n",
      "        [25, 17, 27, 10,  0, 21,  1, 54]])\n",
      "targets: \n",
      "torch.Size([4, 8])\n",
      "tensor([[43, 58,  5, 57,  1, 46, 43, 39],\n",
      "        [53, 56,  1, 58, 46, 39, 58,  1],\n",
      "        [58,  1, 58, 46, 39, 58,  1, 46],\n",
      "        [17, 27, 10,  0, 21,  1, 54, 39]])\n",
      "when the input is tensor([24]), the output should be 43\n",
      "when the input is tensor([24, 43]), the output should be 58\n",
      "when the input is tensor([24, 43, 58]), the output should be 5\n",
      "when the input is tensor([24, 43, 58,  5]), the output should be 57\n",
      "when the input is tensor([24, 43, 58,  5, 57]), the output should be 1\n",
      "when the input is tensor([24, 43, 58,  5, 57,  1]), the output should be 46\n",
      "when the input is tensor([24, 43, 58,  5, 57,  1, 46]), the output should be 43\n",
      "when the input is tensor([24, 43, 58,  5, 57,  1, 46, 43]), the output should be 39\n",
      "when the input is tensor([44]), the output should be 53\n",
      "when the input is tensor([44, 53]), the output should be 56\n",
      "when the input is tensor([44, 53, 56]), the output should be 1\n",
      "when the input is tensor([44, 53, 56,  1]), the output should be 58\n",
      "when the input is tensor([44, 53, 56,  1, 58]), the output should be 46\n",
      "when the input is tensor([44, 53, 56,  1, 58, 46]), the output should be 39\n",
      "when the input is tensor([44, 53, 56,  1, 58, 46, 39]), the output should be 58\n",
      "when the input is tensor([44, 53, 56,  1, 58, 46, 39, 58]), the output should be 1\n",
      "when the input is tensor([52]), the output should be 58\n",
      "when the input is tensor([52, 58]), the output should be 1\n",
      "when the input is tensor([52, 58,  1]), the output should be 58\n",
      "when the input is tensor([52, 58,  1, 58]), the output should be 46\n",
      "when the input is tensor([52, 58,  1, 58, 46]), the output should be 39\n",
      "when the input is tensor([52, 58,  1, 58, 46, 39]), the output should be 58\n",
      "when the input is tensor([52, 58,  1, 58, 46, 39, 58]), the output should be 1\n",
      "when the input is tensor([52, 58,  1, 58, 46, 39, 58,  1]), the output should be 46\n",
      "when the input is tensor([25]), the output should be 17\n",
      "when the input is tensor([25, 17]), the output should be 27\n",
      "when the input is tensor([25, 17, 27]), the output should be 10\n",
      "when the input is tensor([25, 17, 27, 10]), the output should be 0\n",
      "when the input is tensor([25, 17, 27, 10,  0]), the output should be 21\n",
      "when the input is tensor([25, 17, 27, 10,  0, 21]), the output should be 1\n",
      "when the input is tensor([25, 17, 27, 10,  0, 21,  1]), the output should be 54\n",
      "when the input is tensor([25, 17, 27, 10,  0, 21,  1, 54]), the output should be 39\n"
     ]
    }
   ],
   "source": [
    "# The above takes into account the TIME dimension.\n",
    "# Now, to deal with BATCH dimension. We feed multiple batches - all stacked up\n",
    "# GPUs are very good at parallel processing, so we want to keep the GPU efficient and busy.\n",
    "torch.manual_seed(1337) # Reproducibility\n",
    "batch_size = 4 # Number of independent sequences that we can parallelly process.\n",
    "block_size = 8 # Maximum context length for a given prediction\n",
    "\n",
    "def get_batch(split):\n",
    "    data = train_data if split == 'train' else val_data\n",
    "    # Random sampling points in our dataset\n",
    "    ix = torch.randint(len(data) - block_size, (batch_size,)) # (high, (size)) where the size is a tuple defining the shape of the output. This simply means, since batch_size = 4, we get 4 values randomly generated in the range (0, len(data) - block_size)\n",
    "    # Our first block_size characters (context)\n",
    "    print(ix)\n",
    "    x = torch.stack([data[i:i+block_size] for i in ix]) # Stacks them as rows (where each row is a block of <block_size> sampled from index <i>)\n",
    "    # Our offset characters (targets)\n",
    "    y = torch.stack([data[i+1 : i+block_size+1] for i in ix])\n",
    "    # This will help us create our loss function and give us the correct answer for every single position\n",
    "    return x, y\n",
    "\n",
    "xb, yb = get_batch('train')\n",
    "print('inputs: ')\n",
    "print(xb.shape)\n",
    "print(xb)\n",
    "print('targets: ')\n",
    "print(yb.shape)\n",
    "print(yb)\n",
    "\n",
    "for b in range(batch_size):\n",
    "    for t in range(block_size):\n",
    "        context = xb[b, :t+1] # All characters of that batch, preceeding our target\n",
    "        target = yb[b, t] # Note that the yb characters are all offset to the right by 1\n",
    "        print(f'when the input is {context}, the output should be {target}')\n",
    "\n",
    "# Note that each and every single one of the rows in xb or yb, are completely independent\n",
    "\n",
    "   "
   ]
  },
  {
   "cell_type": "code",
   "execution_count": null,
   "id": "7b656a31",
   "metadata": {},
   "outputs": [],
   "source": [
    "# Now, know that xb is our BATCH of input that we are going to feed into the transformer\n",
    "# Start with the simplest possible neural net for a language model - bigram model."
   ]
  }
 ],
 "metadata": {
  "kernelspec": {
   "display_name": "env",
   "language": "python",
   "name": "python3"
  },
  "language_info": {
   "codemirror_mode": {
    "name": "ipython",
    "version": 3
   },
   "file_extension": ".py",
   "mimetype": "text/x-python",
   "name": "python",
   "nbconvert_exporter": "python",
   "pygments_lexer": "ipython3",
   "version": "3.10.9"
  }
 },
 "nbformat": 4,
 "nbformat_minor": 5
}
